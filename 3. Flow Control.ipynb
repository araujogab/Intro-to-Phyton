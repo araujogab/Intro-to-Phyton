{
 "cells": [
  {
   "cell_type": "markdown",
   "id": "2c1e06d6",
   "metadata": {},
   "source": [
    "# A.If statements"
   ]
  },
  {
   "cell_type": "code",
   "execution_count": 21,
   "id": "ff776a02",
   "metadata": {},
   "outputs": [
    {
     "name": "stdout",
     "output_type": "stream",
     "text": [
      "0\n"
     ]
    }
   ],
   "source": [
    "if True or True:\n",
    "    print(0)"
   ]
  },
  {
   "cell_type": "code",
   "execution_count": 2,
   "id": "44dfbbb1",
   "metadata": {},
   "outputs": [
    {
     "name": "stdout",
     "output_type": "stream",
     "text": [
      "aa\n"
     ]
    }
   ],
   "source": [
    "a = 2\n",
    "\n",
    "if a==2:\n",
    "    print('aa')\n",
    "else:\n",
    "    print('b')"
   ]
  },
  {
   "cell_type": "markdown",
   "id": "8332c45b",
   "metadata": {},
   "source": [
    "## A1. Multiple conditions"
   ]
  },
  {
   "cell_type": "code",
   "execution_count": 11,
   "id": "8ad15f31",
   "metadata": {},
   "outputs": [
    {
     "name": "stdout",
     "output_type": "stream",
     "text": [
      "aa\n"
     ]
    }
   ],
   "source": [
    "a = 2\n",
    "\n",
    "if a==2:\n",
    "    print('aa')\n",
    "elif a>=2:\n",
    "    print('c')\n",
    "elif a==3:\n",
    "    pass\n",
    "else:\n",
    "    print('b')"
   ]
  },
  {
   "cell_type": "markdown",
   "id": "1cb79be2",
   "metadata": {},
   "source": [
    "## A2. Cumulative conditions (and/or)"
   ]
  },
  {
   "cell_type": "code",
   "execution_count": 19,
   "id": "c69033a5",
   "metadata": {},
   "outputs": [
    {
     "name": "stdout",
     "output_type": "stream",
     "text": [
      "c\n"
     ]
    }
   ],
   "source": [
    "(a==2 or a==3) and a==4\n",
    "\n",
    "\n",
    "if (a==2 or a==3) and a==4:\n",
    "    print('aa')\n",
    "elif a>=2:\n",
    "    print('c')\n",
    "elif a==3:\n",
    "    pass\n",
    "else:\n",
    "    print('b')"
   ]
  },
  {
   "cell_type": "markdown",
   "id": "f76fa4cc",
   "metadata": {},
   "source": [
    "# B. For Loops"
   ]
  },
  {
   "cell_type": "markdown",
   "id": "2cb098e9",
   "metadata": {},
   "source": [
    "## B0. Iterables"
   ]
  },
  {
   "cell_type": "code",
   "execution_count": 20,
   "id": "1b2d428f",
   "metadata": {},
   "outputs": [
    {
     "name": "stdout",
     "output_type": "stream",
     "text": [
      "1\n",
      "2\n",
      "3\n",
      "4\n",
      "5\n"
     ]
    }
   ],
   "source": [
    "aa = [1,2,3,4,5]\n",
    "\n",
    "for i in aa:\n",
    "    print(i)"
   ]
  },
  {
   "cell_type": "code",
   "execution_count": 22,
   "id": "c6cd0ba0",
   "metadata": {},
   "outputs": [
    {
     "data": {
      "text/plain": [
       "3"
      ]
     },
     "execution_count": 22,
     "metadata": {},
     "output_type": "execute_result"
    }
   ],
   "source": [
    "aa =  {\"name\": \"fausto\",\n",
    "        \"age\": 3,\n",
    "        \"owners\": [],\n",
    "        \"injured\": False}\n",
    "\n",
    "aa['age']"
   ]
  },
  {
   "cell_type": "code",
   "execution_count": 29,
   "id": "8aa140be",
   "metadata": {},
   "outputs": [
    {
     "name": "stdout",
     "output_type": "stream",
     "text": [
      "fausto\n",
      "3\n",
      "[]\n",
      "False\n"
     ]
    }
   ],
   "source": [
    "aa =  {\"name\": \"fausto\",\n",
    "        \"age\": 3,\n",
    "        \"owners\": [],\n",
    "        \"injured\": False}\n",
    "\n",
    "for i in aa:\n",
    "    print(aa[i])"
   ]
  },
  {
   "cell_type": "code",
   "execution_count": 6,
   "id": "989f23b9",
   "metadata": {},
   "outputs": [
    {
     "name": "stdout",
     "output_type": "stream",
     "text": [
      "4\n",
      "5\n",
      "6\n",
      "7\n",
      "8\n",
      "8\n"
     ]
    }
   ],
   "source": [
    "a = 3\n",
    "\n",
    "for i in range(5):\n",
    "    a += 1\n",
    "    print(a)\n",
    "print(a)"
   ]
  },
  {
   "cell_type": "code",
   "execution_count": 45,
   "id": "8fff9e0d",
   "metadata": {},
   "outputs": [
    {
     "name": "stdout",
     "output_type": "stream",
     "text": [
      "8\n"
     ]
    }
   ],
   "source": [
    "a = 3\n",
    "\n",
    "a = a + 1\n",
    "a = a + 1\n",
    "a = a + 1\n",
    "a = a + 1\n",
    "a = a + 1\n",
    "\n",
    "print(a)"
   ]
  },
  {
   "cell_type": "code",
   "execution_count": 7,
   "id": "c471b682",
   "metadata": {},
   "outputs": [],
   "source": [
    "a = a + 1"
   ]
  },
  {
   "cell_type": "code",
   "execution_count": 8,
   "id": "1a2f539f",
   "metadata": {},
   "outputs": [],
   "source": [
    "a -= 1"
   ]
  },
  {
   "cell_type": "code",
   "execution_count": 9,
   "id": "8386a5d8",
   "metadata": {},
   "outputs": [
    {
     "name": "stdout",
     "output_type": "stream",
     "text": [
      "0\n",
      "1\n",
      "2\n",
      "3\n",
      "4\n"
     ]
    }
   ],
   "source": [
    "for i in range(5):\n",
    "    print(i)"
   ]
  },
  {
   "cell_type": "code",
   "execution_count": 47,
   "id": "381feb80",
   "metadata": {},
   "outputs": [
    {
     "name": "stdout",
     "output_type": "stream",
     "text": [
      "13\n"
     ]
    }
   ],
   "source": [
    "a = 3\n",
    "\n",
    "a = a + 0\n",
    "a = a + 1\n",
    "a = a + 2\n",
    "a = a + 3\n",
    "a = a + 4\n",
    "\n",
    "print(a)"
   ]
  },
  {
   "cell_type": "code",
   "execution_count": 51,
   "id": "3dcfa47e",
   "metadata": {
    "scrolled": true
   },
   "outputs": [
    {
     "name": "stdout",
     "output_type": "stream",
     "text": [
      "0\n",
      "10\n",
      "20\n",
      "30\n",
      "40\n"
     ]
    }
   ],
   "source": [
    "for i in range(0,50,10):\n",
    "    print(i)"
   ]
  },
  {
   "cell_type": "markdown",
   "id": "183d65dd",
   "metadata": {},
   "source": [
    "## B1. Loops"
   ]
  },
  {
   "cell_type": "code",
   "execution_count": 56,
   "id": "43885c36",
   "metadata": {},
   "outputs": [
    {
     "name": "stdout",
     "output_type": "stream",
     "text": [
      "it is another one\n",
      "3\n"
     ]
    }
   ],
   "source": [
    "aa = [1,2,3,4,5]\n",
    "\n",
    "b = 3\n",
    "\n",
    "if b == 3:\n",
    "    print('it is another one')\n",
    "print(b)"
   ]
  },
  {
   "cell_type": "code",
   "execution_count": 55,
   "id": "cf7cf37d",
   "metadata": {},
   "outputs": [
    {
     "name": "stdout",
     "output_type": "stream",
     "text": [
      "1\n",
      "2\n",
      "it is another one\n",
      "3\n",
      "4\n",
      "5\n"
     ]
    }
   ],
   "source": [
    "for b in aa:\n",
    "    if b == 3:\n",
    "        print('it is another one')\n",
    "    print(i)"
   ]
  },
  {
   "cell_type": "code",
   "execution_count": 64,
   "id": "433fca1a",
   "metadata": {},
   "outputs": [
    {
     "name": "stdout",
     "output_type": "stream",
     "text": [
      "1\n",
      "2\n",
      "3\n",
      "4\n",
      "5\n"
     ]
    }
   ],
   "source": [
    "another_list = [1,2,3,4,5]\n",
    "\n",
    "for i in another_list:\n",
    "    print(i)"
   ]
  },
  {
   "cell_type": "code",
   "execution_count": 11,
   "id": "bed977c1",
   "metadata": {},
   "outputs": [
    {
     "name": "stdout",
     "output_type": "stream",
     "text": [
      "1\n",
      "2\n",
      "3\n",
      "4\n",
      "5\n"
     ]
    }
   ],
   "source": [
    "aa =  {\"name\": \"fausto\",\n",
    "        \"age\": 3,\n",
    "        \"owners\": [1,2,3,4,5],\n",
    "        \"injured\": False}\n",
    "\n",
    "for i in aa:\n",
    "    if type(aa[i]) == list:\n",
    "        for n in aa[i]:\n",
    "            print(n)"
   ]
  },
  {
   "cell_type": "markdown",
   "id": "fbc6d851",
   "metadata": {},
   "source": [
    "# C. While Loops"
   ]
  },
  {
   "cell_type": "code",
   "execution_count": 13,
   "id": "75e59f79",
   "metadata": {},
   "outputs": [
    {
     "name": "stdout",
     "output_type": "stream",
     "text": [
      "2\n",
      "3\n",
      "4\n",
      "5\n",
      "6\n",
      "7\n",
      "8\n",
      "9\n",
      "10\n"
     ]
    }
   ],
   "source": [
    "a = 1\n",
    "\n",
    "while a < 10:\n",
    "\n",
    "    a += 1\n",
    "    print(a)"
   ]
  },
  {
   "cell_type": "code",
   "execution_count": null,
   "id": "3b619cbd",
   "metadata": {},
   "outputs": [],
   "source": []
  }
 ],
 "metadata": {
  "kernelspec": {
   "display_name": "Python 3 (ipykernel)",
   "language": "python",
   "name": "python3"
  },
  "language_info": {
   "codemirror_mode": {
    "name": "ipython",
    "version": 3
   },
   "file_extension": ".py",
   "mimetype": "text/x-python",
   "name": "python",
   "nbconvert_exporter": "python",
   "pygments_lexer": "ipython3",
   "version": "3.9.13"
  }
 },
 "nbformat": 4,
 "nbformat_minor": 5
}
