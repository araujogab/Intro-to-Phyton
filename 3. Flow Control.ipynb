{
 "cells": [
  {
   "cell_type": "markdown",
   "metadata": {
    "slideshow": {
     "slide_type": "slide"
    }
   },
   "source": [
    "# Flow Control"
   ]
  },
  {
   "cell_type": "markdown",
   "metadata": {
    "slideshow": {
     "slide_type": "subslide"
    }
   },
   "source": [
    "## 1. Conditional Statements\n",
    "\n",
    "Allow you to execute different blocks of code based on certain conditions. The most common conditional statements in Python are \"if,\" \"elif,\" and \"else.\" "
   ]
  },
  {
   "cell_type": "markdown",
   "metadata": {
    "slideshow": {
     "slide_type": "subslide"
    }
   },
   "source": [
    "# IF Statements\n",
    "\n",
    "Syntax: \n",
    "\n",
    "```python\n",
    "if condition:\n",
    "    # block of code to run if the condition is True\n",
    "```"
   ]
  },
  {
   "cell_type": "code",
   "execution_count": 5,
   "metadata": {
    "scrolled": false,
    "slideshow": {
     "slide_type": "fragment"
    }
   },
   "outputs": [
    {
     "name": "stdout",
     "output_type": "stream",
     "text": [
      "I'll be printed\n"
     ]
    }
   ],
   "source": [
    "if True: \n",
    "    print(\"I'll be printed\")"
   ]
  },
  {
   "cell_type": "markdown",
   "metadata": {
    "slideshow": {
     "slide_type": "subslide"
    }
   },
   "source": [
    "## True or False?\n",
    "\n",
    "* It's not that easy to know this\n",
    "* Almost all values, regardless of their type can be considered to be “True” or “False” in most programming languages!\n",
    "* You can always use the function `bool()` to answer this\n"
   ]
  },
  {
   "cell_type": "code",
   "execution_count": 11,
   "metadata": {
    "slideshow": {
     "slide_type": "fragment"
    }
   },
   "outputs": [
    {
     "data": {
      "text/plain": [
       "False"
      ]
     },
     "execution_count": 11,
     "metadata": {},
     "output_type": "execute_result"
    }
   ],
   "source": [
    "bool([])"
   ]
  },
  {
   "cell_type": "code",
   "execution_count": 13,
   "metadata": {
    "slideshow": {
     "slide_type": "fragment"
    }
   },
   "outputs": [
    {
     "data": {
      "text/plain": [
       "False"
      ]
     },
     "execution_count": 13,
     "metadata": {},
     "output_type": "execute_result"
    }
   ],
   "source": [
    "bool(0)"
   ]
  },
  {
   "cell_type": "code",
   "execution_count": 14,
   "metadata": {
    "slideshow": {
     "slide_type": "fragment"
    }
   },
   "outputs": [
    {
     "data": {
      "text/plain": [
       "True"
      ]
     },
     "execution_count": 14,
     "metadata": {},
     "output_type": "execute_result"
    }
   ],
   "source": [
    "bool([1,2,3])"
   ]
  },
  {
   "cell_type": "markdown",
   "metadata": {
    "slideshow": {
     "slide_type": "subslide"
    }
   },
   "source": [
    "## elif \n",
    "\n",
    "* Using multiple 'ifs'\n",
    "\n",
    "For example\n",
    "* Buy 1 share if ticket value is VALE\n",
    "* Buy 2 share if ticket value is PETR"
   ]
  },
  {
   "cell_type": "markdown",
   "metadata": {
    "slideshow": {
     "slide_type": "subslide"
    }
   },
   "source": [
    "Using two if statements..."
   ]
  },
  {
   "cell_type": "code",
   "execution_count": 1,
   "metadata": {
    "slideshow": {
     "slide_type": "fragment"
    }
   },
   "outputs": [
    {
     "name": "stdout",
     "output_type": "stream",
     "text": [
      "buy 2 shares in VALE\n"
     ]
    }
   ],
   "source": [
    "ticker_value = \"VALE\"\n",
    "if ticker_value == \"VALE\":\n",
    "    print(\"buy 2 shares in VALE\")\n",
    "if ticker_value == \"PETR\":\n",
    "    print(\"buy 1 share in PETR\")"
   ]
  },
  {
   "cell_type": "markdown",
   "metadata": {
    "slideshow": {
     "slide_type": "subslide"
    }
   },
   "source": [
    "Or we can use:\n",
    "* the `elif` -> Stands for else if \n",
    "* This is what you should choose if you only want to do one thing from many"
   ]
  },
  {
   "cell_type": "code",
   "execution_count": 2,
   "metadata": {
    "slideshow": {
     "slide_type": "fragment"
    }
   },
   "outputs": [
    {
     "name": "stdout",
     "output_type": "stream",
     "text": [
      "buy 2 shares in VALE\n"
     ]
    }
   ],
   "source": [
    "if ticker_value == \"VALE\":\n",
    "    print(\"buy 2 shares in VALE\")\n",
    "elif ticker_value == \"PETR\":\n",
    "    print(\"buy 1 share in PETR\")"
   ]
  },
  {
   "cell_type": "markdown",
   "metadata": {
    "slideshow": {
     "slide_type": "fragment"
    }
   },
   "source": [
    "Only the first \"true\" block is executed"
   ]
  },
  {
   "cell_type": "code",
   "execution_count": 3,
   "metadata": {
    "slideshow": {
     "slide_type": "subslide"
    }
   },
   "outputs": [
    {
     "name": "stdout",
     "output_type": "stream",
     "text": [
      "hello 1\n"
     ]
    }
   ],
   "source": [
    "if True:\n",
    "    print(\"hello 1\")\n",
    "elif True:\n",
    "    print(\"hello 2\")\n",
    "elif True:\n",
    "    print(\"hello 3\")"
   ]
  },
  {
   "cell_type": "code",
   "execution_count": 3,
   "metadata": {
    "slideshow": {
     "slide_type": "fragment"
    }
   },
   "outputs": [
    {
     "name": "stdout",
     "output_type": "stream",
     "text": [
      "hello 2\n"
     ]
    }
   ],
   "source": [
    "if False:\n",
    "    print(\"hello 1\")\n",
    "elif True:\n",
    "    print(\"hello 2\")\n",
    "elif True:\n",
    "    print(\"hello 3\")"
   ]
  },
  {
   "cell_type": "markdown",
   "metadata": {
    "slideshow": {
     "slide_type": "subslide"
    }
   },
   "source": [
    "## else\n",
    "\n",
    "* In the case where you want to have some “default” behavior, you can use the else syntax at the end of your else-if\n",
    "* This is like saying “if none of the above conditions evaluate to true, do this”\n"
   ]
  },
  {
   "cell_type": "code",
   "execution_count": 4,
   "metadata": {
    "slideshow": {
     "slide_type": "fragment"
    }
   },
   "outputs": [
    {
     "name": "stdout",
     "output_type": "stream",
     "text": [
      "z is odd\n"
     ]
    }
   ],
   "source": [
    "z = 5\n",
    "if z % 2 == 0:\n",
    "    print(\"z is even\")\n",
    "else:\n",
    "    print(\"z is odd\")\n",
    "    "
   ]
  },
  {
   "cell_type": "markdown",
   "metadata": {
    "slideshow": {
     "slide_type": "subslide"
    }
   },
   "source": [
    "## If statement summary\n",
    "\n",
    "* You can execute code on a condition using an “if” statement\n",
    "* You can chain multiple conditions together inside of an if statement using the and and or keywords\n",
    "* You can provide a complete scenario including default behavior using if, elif, and else"
   ]
  },
  {
   "cell_type": "markdown",
   "metadata": {},
   "source": [
    "# 2. Loops"
   ]
  },
  {
   "cell_type": "markdown",
   "metadata": {
    "slideshow": {
     "slide_type": "slide"
    }
   },
   "source": [
    "# For Statements"
   ]
  },
  {
   "cell_type": "markdown",
   "metadata": {
    "slideshow": {
     "slide_type": "subslide"
    }
   },
   "source": [
    "## Doing something similar many times\n",
    "\n",
    "A \"for\" loop is a control structure that allows you to iterate over a sequence (such as a list, tuple, string, or other iterable objects) and perform a specific block of code for each item in the sequence.\n",
    "\n",
    "```python\n",
    "\n",
    "    for var in seq:\n",
    "        expression\n"
   ]
  },
  {
   "cell_type": "code",
   "execution_count": 33,
   "metadata": {
    "slideshow": {
     "slide_type": "subslide"
    }
   },
   "outputs": [
    {
     "name": "stdout",
     "output_type": "stream",
     "text": [
      "1\n",
      "2\n",
      "3\n"
     ]
    }
   ],
   "source": [
    "a_list = [1, 2, 3]\n",
    "\n",
    "for num in a_list:\n",
    "    print(num)"
   ]
  },
  {
   "cell_type": "code",
   "execution_count": 12,
   "metadata": {},
   "outputs": [
    {
     "name": "stdout",
     "output_type": "stream",
     "text": [
      "index 0: 1.73\n",
      "index 1: 1.68\n",
      "index 2: 1.71\n",
      "index 3: 1.89\n"
     ]
    }
   ],
   "source": [
    "fam = [1.73, 1.68, 1.71, 1.89]\n",
    "\n",
    "for index, height in enumerate(fam):\n",
    "    print(\"index \" + str(index) + \": \" + str(height))"
   ]
  },
  {
   "cell_type": "code",
   "execution_count": 13,
   "metadata": {},
   "outputs": [
    {
     "name": "stdout",
     "output_type": "stream",
     "text": [
      "F\n",
      "A\n",
      "M\n",
      "I\n",
      "L\n",
      "Y\n"
     ]
    }
   ],
   "source": [
    "for c in \"family\":\n",
    "    print(c.capitalize())"
   ]
  },
  {
   "cell_type": "code",
   "execution_count": 14,
   "metadata": {
    "slideshow": {
     "slide_type": "subslide"
    }
   },
   "outputs": [
    {
     "name": "stdout",
     "output_type": "stream",
     "text": [
      "0\n",
      "1\n",
      "2\n",
      "3\n",
      "4\n",
      "5\n",
      "6\n",
      "7\n",
      "8\n",
      "9\n",
      "10\n",
      "11\n",
      "12\n",
      "13\n",
      "14\n",
      "15\n",
      "16\n",
      "17\n",
      "18\n",
      "19\n"
     ]
    }
   ],
   "source": [
    "for num in range(0, 20):\n",
    "    print(num)"
   ]
  },
  {
   "cell_type": "markdown",
   "metadata": {
    "slideshow": {
     "slide_type": "subslide"
    }
   },
   "source": [
    "### Let's loop over dictionaries"
   ]
  },
  {
   "cell_type": "code",
   "execution_count": 14,
   "metadata": {
    "scrolled": false,
    "slideshow": {
     "slide_type": "fragment"
    }
   },
   "outputs": [
    {
     "name": "stdout",
     "output_type": "stream",
     "text": [
      "key AAPL\n",
      "value 1\n",
      "\n",
      "\n",
      "key GOOG\n",
      "value 2\n",
      "\n",
      "\n",
      "key FB\n",
      "value 3\n",
      "\n",
      "\n"
     ]
    }
   ],
   "source": [
    "a_dict = {\n",
    "    \"AAPL\": 1,\n",
    "    \"GOOG\": 2,\n",
    "    \"FB\": 3\n",
    "}\n",
    "\n",
    "for key in a_dict: \n",
    "    print(\"key\", key)\n",
    "    print(\"value\", a_dict[key])\n",
    "    print(\"\\n\") # just to give spaces"
   ]
  },
  {
   "cell_type": "code",
   "execution_count": 17,
   "metadata": {},
   "outputs": [
    {
     "name": "stdout",
     "output_type": "stream",
     "text": [
      "key AAPL\n",
      "value 1\n",
      "\n",
      "\n",
      "key GOOG\n",
      "value 4\n",
      "\n",
      "\n",
      "key FB\n",
      "value 3\n",
      "\n",
      "\n"
     ]
    }
   ],
   "source": [
    "a_dict = {\n",
    "    \"AAPL\": 1,\n",
    "    \"GOOG\": 4,\n",
    "    \"FB\": 3\n",
    "}\n",
    "\n",
    "for key, values in a_dict.items(): \n",
    "    print(\"key\", key)\n",
    "    print(\"value\", values)\n",
    "    print(\"\\n\") # just to give spaces"
   ]
  },
  {
   "cell_type": "markdown",
   "metadata": {},
   "source": [
    "### Example for numpy"
   ]
  },
  {
   "cell_type": "code",
   "execution_count": 18,
   "metadata": {},
   "outputs": [
    {
     "name": "stdout",
     "output_type": "stream",
     "text": [
      "21.85171572722109\n",
      "20.97505668934241\n",
      "21.750282138093777\n",
      "24.74734749867025\n",
      "21.44127836209856\n"
     ]
    }
   ],
   "source": [
    "import numpy as np\n",
    "\n",
    "np_height = np.array([1.73, 1.68, 1.71, 1.89, 1.79])\n",
    "np_weight = np.array([65.4, 59.2, 63.6, 88.4, 68.7])\n",
    "\n",
    "bmi = np_weight/np_height**2\n",
    "for val in bmi:\n",
    "    print(val)"
   ]
  },
  {
   "cell_type": "code",
   "execution_count": 20,
   "metadata": {},
   "outputs": [
    {
     "name": "stdout",
     "output_type": "stream",
     "text": [
      "[1.73 1.68 1.71 1.89 1.79]\n",
      "[65.4 59.2 63.6 88.4 68.7]\n"
     ]
    }
   ],
   "source": [
    "meas = np.array([np_height, np_weight])\n",
    "for val in meas:\n",
    "    print(val)"
   ]
  },
  {
   "cell_type": "code",
   "execution_count": 21,
   "metadata": {},
   "outputs": [
    {
     "name": "stdout",
     "output_type": "stream",
     "text": [
      "1.73\n",
      "1.68\n",
      "1.71\n",
      "1.89\n",
      "1.79\n",
      "65.4\n",
      "59.2\n",
      "63.6\n",
      "88.4\n",
      "68.7\n"
     ]
    }
   ],
   "source": [
    "for val in np.nditer(meas):\n",
    "    print(val)"
   ]
  },
  {
   "cell_type": "markdown",
   "metadata": {},
   "source": [
    "### Example for Pandas\n",
    "\n",
    "* In Pandas, you have to mention explicitly that you want to iterate over the rows"
   ]
  },
  {
   "cell_type": "code",
   "execution_count": 30,
   "metadata": {},
   "outputs": [
    {
     "name": "stdout",
     "output_type": "stream",
     "text": [
      "country\n",
      "drives_right\n",
      "cars_per_cap\n"
     ]
    }
   ],
   "source": [
    "### generate data\n",
    "\n",
    "import pandas as pd\n",
    "\n",
    "names = ['United States', 'Australia', 'Japan', 'India', 'Russia', 'Morocco', 'Egypt']\n",
    "dr =  [True, False, False, False, True, True, True]\n",
    "cpc = [809, 731, 588, 18, 200, 70, 45]\n",
    "\n",
    "my_dict = {}\n",
    "my_dict['country']=names\n",
    "my_dict['drives_right']=dr\n",
    "my_dict['cars_per_cap']=cpc\n",
    "\n",
    "cars = pd.DataFrame(my_dict)\n",
    "row_labels = ['US', 'AUS', 'JPN', 'IN', 'RU', 'MOR', 'EG']\n",
    "cars.index = row_labels\n",
    "\n",
    "for val in cars:\n",
    "    print(val)\n",
    "\n",
    "### the output is the columns names"
   ]
  },
  {
   "cell_type": "code",
   "execution_count": 31,
   "metadata": {},
   "outputs": [
    {
     "name": "stdout",
     "output_type": "stream",
     "text": [
      "US\n",
      "country         United States\n",
      "drives_right             True\n",
      "cars_per_cap              809\n",
      "Name: US, dtype: object\n",
      "AUS\n",
      "country         Australia\n",
      "drives_right        False\n",
      "cars_per_cap          731\n",
      "Name: AUS, dtype: object\n",
      "JPN\n",
      "country         Japan\n",
      "drives_right    False\n",
      "cars_per_cap      588\n",
      "Name: JPN, dtype: object\n",
      "IN\n",
      "country         India\n",
      "drives_right    False\n",
      "cars_per_cap       18\n",
      "Name: IN, dtype: object\n",
      "RU\n",
      "country         Russia\n",
      "drives_right      True\n",
      "cars_per_cap       200\n",
      "Name: RU, dtype: object\n",
      "MOR\n",
      "country         Morocco\n",
      "drives_right       True\n",
      "cars_per_cap         70\n",
      "Name: MOR, dtype: object\n",
      "EG\n",
      "country         Egypt\n",
      "drives_right     True\n",
      "cars_per_cap       45\n",
      "Name: EG, dtype: object\n"
     ]
    }
   ],
   "source": [
    "for lab, row in cars.iterrows():\n",
    "    print(lab)\n",
    "    print(row)"
   ]
  },
  {
   "cell_type": "code",
   "execution_count": 40,
   "metadata": {},
   "outputs": [
    {
     "name": "stdout",
     "output_type": "stream",
     "text": [
      "US: 809\n",
      "AUS: 731\n",
      "JPN: 588\n",
      "IN: 18\n",
      "RU: 200\n",
      "MOR: 70\n",
      "EG: 45\n"
     ]
    }
   ],
   "source": [
    "### selecting only one column\n",
    "\n",
    "for lab, row in cars.iterrows():\n",
    "    print(lab + \": \" + str(row[\"cars_per_cap\"]))\n"
   ]
  },
  {
   "cell_type": "code",
   "execution_count": 41,
   "metadata": {},
   "outputs": [
    {
     "name": "stdout",
     "output_type": "stream",
     "text": [
      "           country  drives_right  cars_per_cap  country_name_lenght\n",
      "US   United States          True           809                 13.0\n",
      "AUS      Australia         False           731                  9.0\n",
      "JPN          Japan         False           588                  5.0\n",
      "IN           India         False            18                  5.0\n",
      "RU          Russia          True           200                  6.0\n",
      "MOR        Morocco          True            70                  7.0\n",
      "EG           Egypt          True            45                  5.0\n"
     ]
    }
   ],
   "source": [
    "### adding a column\n",
    "\n",
    "for lab, row in cars.iterrows():\n",
    "    cars.loc[lab,\"country_name_lenght\"] = len(row[\"country\"])\n",
    "print(cars)\n"
   ]
  },
  {
   "cell_type": "code",
   "execution_count": 44,
   "metadata": {},
   "outputs": [
    {
     "name": "stdout",
     "output_type": "stream",
     "text": [
      "           country  drives_right  cars_per_cap  country_name_lenght\n",
      "US   United States          True           809                   13\n",
      "AUS      Australia         False           731                    9\n",
      "JPN          Japan         False           588                    5\n",
      "IN           India         False            18                    5\n",
      "RU          Russia          True           200                    6\n",
      "MOR        Morocco          True            70                    7\n",
      "EG           Egypt          True            45                    5\n"
     ]
    }
   ],
   "source": [
    "### how to make this more efficient\n",
    "\n",
    "names = ['United States', 'Australia', 'Japan', 'India', 'Russia', 'Morocco', 'Egypt']\n",
    "dr =  [True, False, False, False, True, True, True]\n",
    "cpc = [809, 731, 588, 18, 200, 70, 45]\n",
    "\n",
    "my_dict = {}\n",
    "my_dict['country']=names\n",
    "my_dict['drives_right']=dr\n",
    "my_dict['cars_per_cap']=cpc\n",
    "\n",
    "cars = pd.DataFrame(my_dict)\n",
    "row_labels = ['US', 'AUS', 'JPN', 'IN', 'RU', 'MOR', 'EG']\n",
    "cars.index = row_labels\n",
    "\n",
    "cars[\"country_name_lenght\"] = cars[\"country\"].apply(len)\n",
    "print(cars)"
   ]
  },
  {
   "cell_type": "code",
   "execution_count": 46,
   "metadata": {},
   "outputs": [
    {
     "name": "stdout",
     "output_type": "stream",
     "text": [
      "           country  drives_right  cars_per_cap  country_name_lenght  \\\n",
      "US   United States          True           809                   13   \n",
      "AUS      Australia         False           731                    9   \n",
      "JPN          Japan         False           588                    5   \n",
      "IN           India         False            18                    5   \n",
      "RU          Russia          True           200                    6   \n",
      "MOR        Morocco          True            70                    7   \n",
      "EG           Egypt          True            45                    5   \n",
      "\n",
      "           COUNTRY  \n",
      "US   UNITED STATES  \n",
      "AUS      AUSTRALIA  \n",
      "JPN          JAPAN  \n",
      "IN           INDIA  \n",
      "RU          RUSSIA  \n",
      "MOR        MOROCCO  \n",
      "EG           EGYPT  \n"
     ]
    }
   ],
   "source": [
    "cars[\"COUNTRY\"] = cars[\"country\"].apply(str.upper)\n",
    "print(cars)"
   ]
  },
  {
   "cell_type": "markdown",
   "metadata": {
    "slideshow": {
     "slide_type": "subslide"
    }
   },
   "source": [
    "### Using for and if together "
   ]
  },
  {
   "cell_type": "code",
   "execution_count": 21,
   "metadata": {
    "slideshow": {
     "slide_type": "fragment"
    }
   },
   "outputs": [
    {
     "name": "stdout",
     "output_type": "stream",
     "text": [
      "I'm buying 2 stock of GOOG\n"
     ]
    }
   ],
   "source": [
    "for key in a_dict: \n",
    "    if key == \"GOOG\":\n",
    "        print(f\"I'm buying {a_dict[key]} stock of {key}\")"
   ]
  },
  {
   "cell_type": "markdown",
   "metadata": {
    "slideshow": {
     "slide_type": "subslide"
    }
   },
   "source": [
    "# While statement"
   ]
  },
  {
   "cell_type": "markdown",
   "metadata": {
    "slideshow": {
     "slide_type": "fragment"
    }
   },
   "source": [
    "The \"while\" loop is a control structure that allows you to execute a block of code repeatedly as long as a specific condition remains true."
   ]
  },
  {
   "cell_type": "markdown",
   "metadata": {
    "slideshow": {
     "slide_type": "fragment"
    }
   },
   "source": [
    "```python\n",
    "while expression: \n",
    "    # Code block to be executed while the condition is true\n",
    "    ...\n",
    "```"
   ]
  },
  {
   "cell_type": "markdown",
   "metadata": {
    "slideshow": {
     "slide_type": "subslide"
    }
   },
   "source": [
    "The while statement evaluates the expression at the beginning of every iteration. With that, it decides if it should loop again or not. "
   ]
  },
  {
   "cell_type": "code",
   "execution_count": 6,
   "metadata": {},
   "outputs": [
    {
     "name": "stdout",
     "output_type": "stream",
     "text": [
      "12.5\n",
      "3.125\n",
      "0.78125\n"
     ]
    }
   ],
   "source": [
    "error = 50.0\n",
    "\n",
    "while error > 1:\n",
    "    error = error/4\n",
    "    print(error)"
   ]
  },
  {
   "cell_type": "markdown",
   "metadata": {},
   "source": [
    "**Caution** An infinite loop in Python is a loop that runs indefinitely and does not stop on its own. This can happen if the loop condition always evaluates to True, meaning the loop will keep executing its code block forever.\n",
    "\n",
    "```python\n",
    "\n",
    "while True:\n",
    "    print(\"This is an infinite loop!\")\n"
   ]
  }
 ],
 "metadata": {
  "celltoolbar": "Slideshow",
  "kernelspec": {
   "display_name": "Python 3 (ipykernel)",
   "language": "python",
   "name": "python3"
  },
  "language_info": {
   "codemirror_mode": {
    "name": "ipython",
    "version": 3
   },
   "file_extension": ".py",
   "mimetype": "text/x-python",
   "name": "python",
   "nbconvert_exporter": "python",
   "pygments_lexer": "ipython3",
   "version": "3.9.13"
  }
 },
 "nbformat": 4,
 "nbformat_minor": 2
}
