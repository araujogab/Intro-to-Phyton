{
 "cells": [
  {
   "cell_type": "markdown",
   "id": "21c83ccb",
   "metadata": {},
   "source": [
    "# Packages"
   ]
  },
  {
   "cell_type": "markdown",
   "id": "6868e11f",
   "metadata": {},
   "source": [
    "Package is a way to organize related modules and sub-packages together.\n",
    "\n",
    "Packages in Python can be visualized as directories containing Python scripts. Each script within the package is referred to as a module. These modules define functions, methods, and new Python types designed to tackle specific problems. With an extensive array of available packages, Python offers thousands of solutions for diverse tasks."
   ]
  },
  {
   "cell_type": "markdown",
   "id": "c8f5434d",
   "metadata": {},
   "source": [
    "### Installing packages:\n",
    "\n",
    "* !pip install package_name"
   ]
  },
  {
   "cell_type": "markdown",
   "id": "15b44ade",
   "metadata": {},
   "source": [
    "### Importing packages:\n",
    "\n",
    "Befor use a package you should import the package or a specfic module of the package using the import statement:\n",
    "\n",
    "* import package_name\n"
   ]
  },
  {
   "cell_type": "code",
   "execution_count": 2,
   "id": "888fa847",
   "metadata": {},
   "outputs": [
    {
     "name": "stdout",
     "output_type": "stream",
     "text": [
      "Requirement already satisfied: numpy in c:\\users\\gabriella\\anaconda3\\lib\\site-packages (1.24.4)\n"
     ]
    }
   ],
   "source": [
    "#E.g. using the numpy package \n",
    "\n",
    "!pip install numpy\n",
    "import numpy"
   ]
  },
  {
   "cell_type": "markdown",
   "id": "7adaaf3d",
   "metadata": {},
   "source": [
    "In the numpy package que have the array function:\n",
    "\n",
    "**Note:** When you have a function inside a package, it needs to refer to the package."
   ]
  },
  {
   "cell_type": "code",
   "execution_count": 4,
   "id": "bb69bfbf",
   "metadata": {},
   "outputs": [
    {
     "data": {
      "text/plain": [
       "array([1, 2, 3])"
      ]
     },
     "execution_count": 4,
     "metadata": {},
     "output_type": "execute_result"
    }
   ],
   "source": [
    "numpy.array([1,2,3])"
   ]
  },
  {
   "cell_type": "markdown",
   "id": "01d1b6d7",
   "metadata": {},
   "source": [
    "### Referencing packages:\n",
    "\n",
    "To simply this we can import a package and refer to it with a different name:"
   ]
  },
  {
   "cell_type": "code",
   "execution_count": 5,
   "id": "87c1c699",
   "metadata": {},
   "outputs": [
    {
     "data": {
      "text/plain": [
       "array([1, 2, 3])"
      ]
     },
     "execution_count": 5,
     "metadata": {},
     "output_type": "execute_result"
    }
   ],
   "source": [
    "import numpy as np\n",
    "\n",
    "np.array([1,2,3])"
   ]
  },
  {
   "cell_type": "markdown",
   "id": "036fb11a",
   "metadata": {},
   "source": [
    "If we need only a specific function of a package, we can explicit it like this:\n",
    "\n",
    "**Note:** In this case we don't need the use \"numpy.array\" only the function \"array\""
   ]
  },
  {
   "cell_type": "code",
   "execution_count": 7,
   "id": "8e58e5f6",
   "metadata": {},
   "outputs": [
    {
     "data": {
      "text/plain": [
       "array([1, 2, 3])"
      ]
     },
     "execution_count": 7,
     "metadata": {},
     "output_type": "execute_result"
    }
   ],
   "source": [
    "from numpy import array\n",
    "array([1,2,3])"
   ]
  },
  {
   "cell_type": "markdown",
   "id": "901bb10f",
   "metadata": {},
   "source": [
    "### Some useful Python packages:\n",
    "\n",
    "Standard Library Packages:\n",
    "\n",
    "* **os**: Provides a way to work with the operating system, allowing you to perform operations like file and directory manipulation.\n",
    "\n",
    "* **sys**: Contains functions to interact with the Python runtime environment, such as command-line arguments and system-specific parameters.\n",
    "\n",
    "* **datetime**: Offers classes for working with dates, times, and timedeltas, facilitating various time-related operations.\n",
    "\n",
    "* **math**: Provides mathematical functions and constants, like trigonometric, logarithmic, and arithmetic operations.\n",
    "\n",
    "* **random**: Offers functions for generating random numbers, useful for simulations, games, and other applications.\n",
    "\n",
    "* **json**: Enables encoding and decoding JSON data, essential for working with APIs and data interchange.\n",
    "\n",
    "* **csv**: Facilitates reading and writing Comma-Separated Values (CSV) files, a common format for data storage and exchange.\n",
    "\n",
    "* **urllib**: Allows you to open URLs and fetch data from the internet, making it useful for web scraping and fetching data from APIs.\n",
    "\n",
    "Popular Third-Party Packages:\n",
    "\n",
    "* **numpy**: Provides powerful numerical computing capabilities, including support for arrays and mathematical functions.\n",
    "\n",
    "* **pandas**: Offers data manipulation and analysis tools, particularly useful for working with tabular and time-series data.\n",
    "\n",
    "* **matplotlib**: Enables plotting and visualization of data in various formats, helping to create charts and graphs.\n",
    "\n",
    "* **requests**: Simplifies making HTTP requests, making it a popular choice for interacting with web APIs.\n",
    "\n",
    "* **scikit-learn**: A comprehensive machine learning library that includes a wide range of algorithms and tools for data analysis and modeling.\n",
    "\n",
    "* **tensorflow and pytorch**: Deep learning frameworks used for building and training neural networks.\n",
    "\n",
    "* **flask and django**: Web frameworks for developing web applications, with Flask being lightweight and Django offering more features and structure.\n",
    "\n",
    "* **beautifulsoup4**: Facilitates web scraping by parsing HTML and XML documents to extract data."
   ]
  }
 ],
 "metadata": {
  "kernelspec": {
   "display_name": "Python 3 (ipykernel)",
   "language": "python",
   "name": "python3"
  },
  "language_info": {
   "codemirror_mode": {
    "name": "ipython",
    "version": 3
   },
   "file_extension": ".py",
   "mimetype": "text/x-python",
   "name": "python",
   "nbconvert_exporter": "python",
   "pygments_lexer": "ipython3",
   "version": "3.9.13"
  }
 },
 "nbformat": 4,
 "nbformat_minor": 5
}
