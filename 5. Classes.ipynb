{
 "cells": [
  {
   "cell_type": "markdown",
   "metadata": {
    "slideshow": {
     "slide_type": "slide"
    }
   },
   "source": [
    "# Classes"
   ]
  },
  {
   "cell_type": "markdown",
   "metadata": {
    "slideshow": {
     "slide_type": "subslide"
    }
   },
   "source": [
    "## What we have done so far"
   ]
  },
  {
   "cell_type": "markdown",
   "metadata": {
    "slideshow": {
     "slide_type": "fragment"
    }
   },
   "source": [
    "* Variables\n",
    "* Data Structures\n",
    "* Flow control\n",
    "* Functions\n",
    "\n"
   ]
  },
  {
   "cell_type": "markdown",
   "metadata": {
    "slideshow": {
     "slide_type": "fragment"
    }
   },
   "source": [
    "Take a minute to appreciate all you have learnt, this is a lot and I’m quite proud of the work you have been doing this semester.\n",
    "\n",
    "Keep it up!\n"
   ]
  },
  {
   "cell_type": "markdown",
   "metadata": {
    "slideshow": {
     "slide_type": "subslide"
    }
   },
   "source": [
    "## Motivation to use Objects\n"
   ]
  },
  {
   "cell_type": "markdown",
   "metadata": {
    "slideshow": {
     "slide_type": "fragment"
    }
   },
   "source": [
    "Remember, like any other tool there are times to use the tool and times not to\n",
    "The case where we will want to use objects are generally when we need to solve the following two problems:\n",
    "* We need to keep state\n",
    "* We need to reuse lots of code\n"
   ]
  },
  {
   "cell_type": "markdown",
   "metadata": {
    "slideshow": {
     "slide_type": "subslide"
    }
   },
   "source": [
    "#### What does it mean to keep state? "
   ]
  },
  {
   "cell_type": "markdown",
   "metadata": {
    "slideshow": {
     "slide_type": "fragment"
    }
   },
   "source": [
    "It means: to know the current status of something.\n",
    "\n",
    "* Keeping state = keeping track of it\n"
   ]
  },
  {
   "cell_type": "markdown",
   "metadata": {
    "slideshow": {
     "slide_type": "subslide"
    }
   },
   "source": [
    "### Examples of cases where we want to keep state"
   ]
  },
  {
   "cell_type": "markdown",
   "metadata": {
    "slideshow": {
     "slide_type": "fragment"
    }
   },
   "source": [
    "There’s a few different types of state that we want to keep\n",
    "\n",
    "* how many people are in a room\n",
    "* If a switch is on or off\n",
    "* the state of a neuron\n",
    "* If a car is being used or not \n",
    "* The state of your current banking account\n"
   ]
  },
  {
   "cell_type": "markdown",
   "metadata": {
    "slideshow": {
     "slide_type": "subslide"
    }
   },
   "source": [
    "### Keeping state solves a different kind of problem"
   ]
  },
  {
   "cell_type": "markdown",
   "metadata": {
    "slideshow": {
     "slide_type": "fragment"
    }
   },
   "source": [
    "The functions that we’ve been working with are all about just taking some input, computing something, and spitting out some output. \n",
    "\n",
    "In this type of problem there is a time component! Things are changing over time and we need to keep track of it.\n",
    "It’s not a one-off problem.\n"
   ]
  },
  {
   "cell_type": "markdown",
   "metadata": {
    "slideshow": {
     "slide_type": "subslide"
    }
   },
   "source": [
    "### What does it mean to code reuse? "
   ]
  },
  {
   "cell_type": "markdown",
   "metadata": {
    "slideshow": {
     "slide_type": "fragment"
    }
   },
   "source": [
    "* Think about a factory making cars. Some parts of the car are the same regardless of what the model is. It would be stupid to “write the code” for each car if we have tools that allow us to share the functionalities. \n",
    "* Programming is all about automating things\n",
    "* If you find yourself as the human re-implementing the same thing over and over again, you should probably be looking for a way to reuse your code.\n",
    "\n"
   ]
  },
  {
   "cell_type": "markdown",
   "metadata": {
    "slideshow": {
     "slide_type": "fragment"
    }
   },
   "source": [
    "So if you have a problem..\n",
    "\n",
    "* And the solution to the problem involves being able to keep state \n",
    "* AND you have a clear need for code-reuse\n",
    "\n",
    "then objects may help you out\n"
   ]
  },
  {
   "cell_type": "markdown",
   "metadata": {
    "slideshow": {
     "slide_type": "subslide"
    }
   },
   "source": [
    "### Classes and more generally OOP"
   ]
  },
  {
   "cell_type": "markdown",
   "metadata": {
    "slideshow": {
     "slide_type": "fragment"
    }
   },
   "source": [
    "* OOP = Object Oriented Programming\n",
    "* Is a very widely-used method in industry to enable state tracking and code-reuse that follows a conceptual model that is relatively simple\n"
   ]
  },
  {
   "cell_type": "markdown",
   "metadata": {
    "slideshow": {
     "slide_type": "slide"
    }
   },
   "source": [
    "## Objects\n",
    "> The cornerstone of OOP\n"
   ]
  },
  {
   "cell_type": "markdown",
   "metadata": {
    "slideshow": {
     "slide_type": "subslide"
    }
   },
   "source": [
    "## What is an object"
   ]
  },
  {
   "cell_type": "markdown",
   "metadata": {
    "slideshow": {
     "slide_type": "fragment"
    }
   },
   "source": [
    "* Let’s consider an robot analogy for a moment to help us understand.\n",
    "* Say you want to build lots of robots and then send them out into the world.\n",
    "* These robots will have some functionality in common but will come in a few different flavors.\n"
   ]
  },
  {
   "cell_type": "markdown",
   "metadata": {
    "slideshow": {
     "slide_type": "subslide"
    }
   },
   "source": [
    "* The first thing that you’ll need is some blueprints for the robots. It’s what designs the robots and defines what they can do and what characterizes them.\n",
    "* Then once you have your blueprints, you will need a factory to create individual robots.\n",
    "* Once you have created a individual robots, you can now send it out into the world to do stuff.\n",
    "* Remember that the robots may be different but have many things in common such as being able to walk.\n"
   ]
  },
  {
   "cell_type": "markdown",
   "metadata": {
    "slideshow": {
     "slide_type": "fragment"
    }
   },
   "source": [
    "* After the two robots have been out in the world for some time, we will notice that they become a bit different.\n",
    "* The two robots have seen different things and have done different things.\n",
    "* Each one now has its own state.\n"
   ]
  },
  {
   "cell_type": "markdown",
   "metadata": {
    "slideshow": {
     "slide_type": "subslide"
    }
   },
   "source": [
    "#### Important vocabulary "
   ]
  },
  {
   "cell_type": "markdown",
   "metadata": {
    "slideshow": {
     "slide_type": "fragment"
    }
   },
   "source": [
    "In our analogy:\n",
    "* The blueprint is the class\n",
    "* An individual robot is an instance of the class\n",
    "\n"
   ]
  },
  {
   "cell_type": "markdown",
   "metadata": {
    "slideshow": {
     "slide_type": "subslide"
    }
   },
   "source": [
    "#### Make sure you understand this"
   ]
  },
  {
   "cell_type": "markdown",
   "metadata": {
    "slideshow": {
     "slide_type": "fragment"
    }
   },
   "source": [
    "* Class - Defines what can be done, acts as the blueprint\n",
    "* To instantiate - To create an instance of your class\n",
    "* Instance - An individual and unique entity\n"
   ]
  },
  {
   "cell_type": "markdown",
   "metadata": {
    "slideshow": {
     "slide_type": "subslide"
    }
   },
   "source": [
    "## Let's make a Robot 🥳"
   ]
  },
  {
   "cell_type": "markdown",
   "metadata": {
    "slideshow": {
     "slide_type": "fragment"
    }
   },
   "source": [
    "Here is a class that does nothing but claims to be a Robot\n",
    "\n",
    "* Notice the use of the class keyword\n",
    "* Then the name of the class\n",
    "* Then a colon\n",
    "* Then indent 4 spaces\n"
   ]
  },
  {
   "cell_type": "code",
   "execution_count": 138,
   "metadata": {
    "slideshow": {
     "slide_type": "fragment"
    }
   },
   "outputs": [],
   "source": [
    "class Robot:\n",
    "    pass"
   ]
  },
  {
   "cell_type": "markdown",
   "metadata": {
    "slideshow": {
     "slide_type": "subslide"
    }
   },
   "source": [
    "Feels familiar..? "
   ]
  },
  {
   "cell_type": "markdown",
   "metadata": {
    "slideshow": {
     "slide_type": "subslide"
    }
   },
   "source": [
    "### Now let’s give the robot the ability to speak"
   ]
  },
  {
   "cell_type": "code",
   "execution_count": 139,
   "metadata": {
    "slideshow": {
     "slide_type": "fragment"
    }
   },
   "outputs": [],
   "source": [
    "class Robot:\n",
    "    def speak(self):\n",
    "        print(\"Hello, world\")"
   ]
  },
  {
   "cell_type": "markdown",
   "metadata": {
    "slideshow": {
     "slide_type": "fragment"
    }
   },
   "source": [
    "* Intended 4 spaces, we have defined a function called speak()\n",
    "* The way that this function is defined “on” the Robot class.\n",
    "* Notice that it’s because of the indentation! If you did not indent 4 spaces, it would not be part of the robot!\n"
   ]
  },
  {
   "cell_type": "markdown",
   "metadata": {
    "slideshow": {
     "slide_type": "fragment"
    }
   },
   "source": [
    "The function is pretty much the same except that it has one argument that we’re not using called self. Don’t worry about this for now, just accept that it’s required and must be there."
   ]
  },
  {
   "cell_type": "markdown",
   "metadata": {
    "slideshow": {
     "slide_type": "subslide"
    }
   },
   "source": [
    "### Now we have a defined a Robot class that does something! Right?"
   ]
  },
  {
   "cell_type": "markdown",
   "metadata": {
    "slideshow": {
     "slide_type": "fragment"
    }
   },
   "source": [
    "Wrong! We have not! We have only defined the blueprint!\n"
   ]
  },
  {
   "cell_type": "code",
   "execution_count": 2,
   "metadata": {},
   "outputs": [],
   "source": [
    "class Robot:\n",
    "    def speak(self):\n",
    "        print(\"Hello, world\")"
   ]
  },
  {
   "cell_type": "code",
   "execution_count": 5,
   "metadata": {
    "slideshow": {
     "slide_type": "fragment"
    }
   },
   "outputs": [
    {
     "name": "stdout",
     "output_type": "stream",
     "text": [
      "Hello, world\n"
     ]
    }
   ],
   "source": [
    "little_robot = Robot()\n",
    "little_robot.speak()"
   ]
  },
  {
   "cell_type": "markdown",
   "metadata": {
    "slideshow": {
     "slide_type": "subslide"
    }
   },
   "source": [
    "Let's get the robot talking 🤓"
   ]
  },
  {
   "cell_type": "code",
   "execution_count": 23,
   "metadata": {
    "slideshow": {
     "slide_type": "fragment"
    }
   },
   "outputs": [
    {
     "name": "stdout",
     "output_type": "stream",
     "text": [
      "Hello, world\n"
     ]
    }
   ],
   "source": [
    "# call the method speak on the instance little_robot\n",
    "\n",
    "little_robot.speak()"
   ]
  },
  {
   "cell_type": "markdown",
   "metadata": {
    "slideshow": {
     "slide_type": "subslide"
    }
   },
   "source": [
    "Recognize the cool pattern? All pieces are coming together.\n",
    "\n",
    "> And we can see the output as if it was defined on a regular function that we already know and love"
   ]
  },
  {
   "cell_type": "markdown",
   "metadata": {
    "slideshow": {
     "slide_type": "fragment"
    }
   },
   "source": [
    "The functions inside the Robot class can have arguments"
   ]
  },
  {
   "cell_type": "code",
   "execution_count": 7,
   "metadata": {
    "slideshow": {
     "slide_type": "fragment"
    }
   },
   "outputs": [
    {
     "name": "stdout",
     "output_type": "stream",
     "text": [
      "Hello, Master Ricardo.\n"
     ]
    }
   ],
   "source": [
    "class Robot:\n",
    "    def speak(self, my_master):\n",
    "        print(f\"Hello, Master {my_master}.\")\n",
    "\n",
    "dobby = Robot()\n",
    "dobby.speak(\"Ricardo\")"
   ]
  },
  {
   "cell_type": "code",
   "execution_count": 136,
   "metadata": {
    "slideshow": {
     "slide_type": "subslide"
    }
   },
   "outputs": [
    {
     "name": "stdout",
     "output_type": "stream",
     "text": [
      "Hello, Master Ricardo.\n"
     ]
    }
   ],
   "source": [
    "ricardo_robot = Robot()\n",
    "ricardo_robot.speak(\"Ricardo\")"
   ]
  },
  {
   "cell_type": "markdown",
   "metadata": {
    "slideshow": {
     "slide_type": "fragment"
    }
   },
   "source": [
    "![rick](https://media1.tenor.com/images/1c6140897565e34a4e98f618e220dc0d/tenor.gif?itemid=9358372)"
   ]
  },
  {
   "cell_type": "markdown",
   "metadata": {
    "slideshow": {
     "slide_type": "subslide"
    }
   },
   "source": [
    "## Now, about keeping state\n"
   ]
  },
  {
   "cell_type": "markdown",
   "metadata": {
    "slideshow": {
     "slide_type": "fragment"
    }
   },
   "source": [
    "#### Let's give our robot some state-keeping abilities"
   ]
  },
  {
   "cell_type": "markdown",
   "metadata": {
    "slideshow": {
     "slide_type": "fragment"
    }
   },
   "source": [
    "* Let’s say that we now want to give the robot the ability to listen\n",
    "* And that when he listens to something, he records it\n",
    "* So the more things he listens to over time, the more he will keep recorded. A.k.a the more state he will have.\n"
   ]
  },
  {
   "cell_type": "markdown",
   "metadata": {
    "slideshow": {
     "slide_type": "subslide"
    }
   },
   "source": [
    "## Choosing the appropriate data structure"
   ]
  },
  {
   "cell_type": "markdown",
   "metadata": {
    "slideshow": {
     "slide_type": "fragment"
    }
   },
   "source": [
    "* Let’s say that the robot can listen to one string at a time\n",
    "* Remember, he needs to keep adding strings\n",
    "\n",
    "**What kind of data structure do we know of that works well for this?**"
   ]
  },
  {
   "cell_type": "markdown",
   "metadata": {
    "slideshow": {
     "slide_type": "subslide"
    }
   },
   "source": [
    "## Let's give him an instance variable"
   ]
  },
  {
   "cell_type": "markdown",
   "metadata": {
    "slideshow": {
     "slide_type": "fragment"
    }
   },
   "source": [
    "All kinds of new stuff"
   ]
  },
  {
   "cell_type": "code",
   "execution_count": 39,
   "metadata": {},
   "outputs": [],
   "source": [
    "class Robot: \n",
    "    def __init__(self, instance_name, nr_legs):\n",
    "        self.name = instance_name\n",
    "        self.nr_legs = nr_legs\n",
    "        print(\"...\")\n",
    "        \n",
    "    def speak(self, my_master):\n",
    "        print(f\"Hello, {my_master}\")\n",
    "        \n",
    "    def reduce_legs(self, how_many):\n",
    "        self.nr_legs -= how_many"
   ]
  },
  {
   "cell_type": "code",
   "execution_count": 41,
   "metadata": {},
   "outputs": [
    {
     "name": "stdout",
     "output_type": "stream",
     "text": [
      "...\n"
     ]
    }
   ],
   "source": [
    "dobby = Robot(\"Dobby\", 4)"
   ]
  },
  {
   "cell_type": "code",
   "execution_count": 30,
   "metadata": {},
   "outputs": [],
   "source": [
    "dobby.reduce_legs(2)"
   ]
  },
  {
   "cell_type": "code",
   "execution_count": 32,
   "metadata": {},
   "outputs": [
    {
     "data": {
      "text/plain": [
       "3"
      ]
     },
     "execution_count": 32,
     "metadata": {},
     "output_type": "execute_result"
    }
   ],
   "source": [
    "cora.nr_legs"
   ]
  },
  {
   "cell_type": "code",
   "execution_count": 24,
   "metadata": {},
   "outputs": [
    {
     "name": "stdout",
     "output_type": "stream",
     "text": [
      "I'm on the init function\n"
     ]
    },
    {
     "data": {
      "text/plain": [
       "3"
      ]
     },
     "execution_count": 24,
     "metadata": {},
     "output_type": "execute_result"
    }
   ],
   "source": [
    "cora = Robot(\"Cora\", 3)\n",
    "cora.nr_legs"
   ]
  },
  {
   "cell_type": "code",
   "execution_count": 19,
   "metadata": {},
   "outputs": [
    {
     "name": "stdout",
     "output_type": "stream",
     "text": [
      "I'm on the init function\n"
     ]
    },
    {
     "data": {
      "text/plain": [
       "'Cora'"
      ]
     },
     "execution_count": 19,
     "metadata": {},
     "output_type": "execute_result"
    }
   ],
   "source": [
    "cora.name"
   ]
  },
  {
   "cell_type": "code",
   "execution_count": 205,
   "metadata": {},
   "outputs": [],
   "source": [
    "class Robot: \n",
    "    # We now have an initializer. This function runs behind the scenes when\n",
    "    # the class is instantiated\n",
    "    def __init__(self, color, name, gender=\"M\"):\n",
    "        # this is an instance variable\n",
    "        self.recordings = []\n",
    "        self.color = color\n",
    "        self.name = name\n",
    "        self.gender = gender\n",
    "        print(\"I get called right away\")\n",
    "        print(self.name)\n",
    "    # we still have our methods - in this case listen\n",
    "    def listen(self, string):\n",
    "        self.recordings.append(string)\n",
    "        print(\"This is inside listen\")\n",
    "        print(self.name)\n",
    "    def get_color(self):\n",
    "        print(f\"My robot color is {self.color}\")"
   ]
  },
  {
   "cell_type": "markdown",
   "metadata": {
    "slideshow": {
     "slide_type": "subslide"
    }
   },
   "source": [
    "What we are doing here:\n",
    "1. Creating an instance variable `self.recordings` that has an empty list\n",
    "2. Creating the `listen` function that takes one argument and appends it to the `self.recordings`"
   ]
  },
  {
   "cell_type": "markdown",
   "metadata": {
    "slideshow": {
     "slide_type": "fragment"
    }
   },
   "source": [
    "But wait... Functions have scope, how can I access `self.recordings` in `listen` if it is created in `__init__` "
   ]
  },
  {
   "cell_type": "markdown",
   "metadata": {
    "slideshow": {
     "slide_type": "subslide"
    }
   },
   "source": [
    "#### The Initializer"
   ]
  },
  {
   "cell_type": "code",
   "execution_count": 18,
   "metadata": {
    "slideshow": {
     "slide_type": "fragment"
    }
   },
   "outputs": [],
   "source": [
    "class Robot:\n",
    "    def __init__(self):\n",
    "        self.recordings = []\n",
    "        print(\"I'm called out of the factory\")"
   ]
  },
  {
   "cell_type": "markdown",
   "metadata": {
    "slideshow": {
     "slide_type": "fragment"
    }
   },
   "source": [
    "* This really messed up looking class function is a special function that behaves a bit different than the others.\n",
    "* This function is called right after the robot leaves the factory in which he is created\n",
    "\n",
    "Anyone remember what the factory for the robot looks like?\n"
   ]
  },
  {
   "cell_type": "code",
   "execution_count": 19,
   "metadata": {
    "slideshow": {
     "slide_type": "fragment"
    }
   },
   "outputs": [
    {
     "name": "stdout",
     "output_type": "stream",
     "text": [
      "I'm called out of the factory\n"
     ]
    }
   ],
   "source": [
    "ricardo_robot = Robot()"
   ]
  },
  {
   "cell_type": "markdown",
   "metadata": {
    "slideshow": {
     "slide_type": "subslide"
    }
   },
   "source": [
    "#### Letting the user define the instance variables"
   ]
  },
  {
   "cell_type": "code",
   "execution_count": null,
   "metadata": {},
   "outputs": [],
   "source": [
    "class Robot:\n",
    "    def __init__(self):\n",
    "        self.recordings = []\n",
    "    \n",
    "    def listen(self, what):\n",
    "        self.recordings.append(what)\n",
    "r = Robot()\n",
    "r.recordings\n",
    "r.listen(\"Let's go out\")"
   ]
  },
  {
   "cell_type": "code",
   "execution_count": 48,
   "metadata": {
    "slideshow": {
     "slide_type": "fragment"
    }
   },
   "outputs": [
    {
     "data": {
      "text/plain": [
       "[\"Let's go out\"]"
      ]
     },
     "execution_count": 48,
     "metadata": {},
     "output_type": "execute_result"
    }
   ],
   "source": [
    "r.recordings"
   ]
  },
  {
   "cell_type": "markdown",
   "metadata": {
    "slideshow": {
     "slide_type": "subslide"
    }
   },
   "source": [
    "### Going back to the self "
   ]
  },
  {
   "cell_type": "markdown",
   "metadata": {
    "slideshow": {
     "slide_type": "fragment"
    }
   },
   "source": [
    "* As we keep state over time, we will need a way to access the hard drive that is unique to a single instance of a robot.\n",
    "* That is what the self is for. It gives you access to the current instance state.\n"
   ]
  },
  {
   "cell_type": "markdown",
   "metadata": {
    "slideshow": {
     "slide_type": "subslide"
    }
   },
   "source": [
    "## Live Code "
   ]
  },
  {
   "cell_type": "markdown",
   "metadata": {},
   "source": [
    "## 1. Increase capabilities \n",
    "\n",
    "Let's add capability to delete recordings to our robot. To do so, we will create the `delete_recordings` method."
   ]
  },
  {
   "cell_type": "markdown",
   "metadata": {},
   "source": [
    "## 2. Create a Lecture Room class\n",
    "\n",
    "* Give it one instance variable called capacity that is the number of students that the room can hold that is initialized to 40\n",
    "* Give the ability to increase or decrease the capacity with functions called increase_capacity and decrease_capacity\n",
    "* Each of these functions takes one argument called amount which is an integer\n",
    "* You then increase or decrease the capacity by the amount given\n",
    "\n",
    "Extra restrictions:\n",
    "The room cannot have a capacity more than 100\n",
    "The room cannot have a capacity less than 10\n",
    "\n",
    "If someone tries to set the capacity to an invalid amount, you should print an error telling them that it is not valid\n"
   ]
  },
  {
   "cell_type": "code",
   "execution_count": 81,
   "metadata": {},
   "outputs": [],
   "source": [
    "class LectureRoom2:\n",
    "    def __init__(self):\n",
    "        self.capacity = 40"
   ]
  },
  {
   "cell_type": "code",
   "execution_count": 82,
   "metadata": {},
   "outputs": [],
   "source": [
    "room_b1 = LectureRoom2()"
   ]
  },
  {
   "cell_type": "code",
   "execution_count": 83,
   "metadata": {},
   "outputs": [
    {
     "data": {
      "text/plain": [
       "40"
      ]
     },
     "execution_count": 83,
     "metadata": {},
     "output_type": "execute_result"
    }
   ],
   "source": [
    "room_b1.capacity"
   ]
  },
  {
   "cell_type": "code",
   "execution_count": 79,
   "metadata": {},
   "outputs": [],
   "source": [
    "room_b1.init()"
   ]
  },
  {
   "cell_type": "code",
   "execution_count": 88,
   "metadata": {},
   "outputs": [],
   "source": [
    "class LectureRoom:\n",
    "    def __init__(self, how_much):\n",
    "        self.capacity = how_much\n",
    "        \n",
    "    def increase_capacity(self, amount):\n",
    "        if self.capacity + amount > 100:\n",
    "            print(\"Error. You can't do that\")\n",
    "        else: \n",
    "            self.capacity += amount\n",
    "        print(self.capacity)\n",
    "        \n",
    "    def decrease_capacity(self, amount):\n",
    "        self.capacity -= amount\n",
    "        print(self.capacity)"
   ]
  },
  {
   "cell_type": "code",
   "execution_count": 90,
   "metadata": {},
   "outputs": [
    {
     "name": "stdout",
     "output_type": "stream",
     "text": [
      "88\n"
     ]
    },
    {
     "data": {
      "text/plain": [
       "88"
      ]
     },
     "execution_count": 90,
     "metadata": {},
     "output_type": "execute_result"
    }
   ],
   "source": [
    "room_d111 = LectureRoom(40)\n",
    "# room_d111.define_capacity(40)\n",
    "room_d111.increase_capacity(48)\n",
    "room_d111.capacity"
   ]
  },
  {
   "cell_type": "code",
   "execution_count": 67,
   "metadata": {},
   "outputs": [
    {
     "name": "stdout",
     "output_type": "stream",
     "text": [
      "88\n"
     ]
    }
   ],
   "source": []
  },
  {
   "cell_type": "code",
   "execution_count": 62,
   "metadata": {},
   "outputs": [
    {
     "name": "stdout",
     "output_type": "stream",
     "text": [
      "110\n"
     ]
    }
   ],
   "source": [
    "room_d111.decrease_capacity(30)"
   ]
  },
  {
   "cell_type": "markdown",
   "metadata": {},
   "source": [
    "## In class exercise"
   ]
  },
  {
   "cell_type": "markdown",
   "metadata": {},
   "source": [
    "Create an object any restaurant. We will not cover everything from the restaurant needs but we will cover some of them.\n",
    "\n",
    "The instance variables should be defined by the user creating the restaurant\n",
    "* number of tables (integer)\n",
    "* number of employees (integer)\n",
    "* cash balance (float)\n",
    "* open (boolean)\n",
    "* employees (dictionary)\n",
    "\n",
    "The instance variables that are not controlled by the user: \n",
    "* reservations - should start as an empty dictionary\n",
    "\n",
    "The reservation dictionary should look like this: \n",
    "```python\n",
    "reservations_example = {\n",
    "    \"Dobby Pereira\": (\"12-04-2021\", 5) # the tuple has a date and the table number I want to assign\n",
    "}\n",
    "```\n",
    "\n",
    "The employee dictionary should look like this:\n",
    "```python\n",
    "employee_dictionary_example = {\n",
    "    \"Manuel Almeida\": 29,\n",
    "    \"Francisca Fernandes\": 35,\n",
    "    \"Rodrigo Fonseca\": 20\n",
    "}    \n",
    "```\n",
    "Remember this is just an example and it should be defined by the user! \n",
    "\n",
    "\n",
    "Create the following methods: \n",
    "\n",
    "`open_close_restaurant`\n",
    "> This method should switch the instance variable that represents if the restaurant is open or not. Returns None\n",
    "\n",
    "`hire_employee`\n",
    "> This method should receive the name and age of the employee you are hiring in the function and update the list of employees that your restaurant currently has. Returns None\n",
    "\n",
    "`checkout` \n",
    "> This method should receive the number of the table and the checkout value of that table. It should update the cash balance variable and return the number of the table refering to this particular checkout\n",
    "\n",
    "`fire_employee` \n",
    "> This method should receive the name of the employee you are want to fire and update the employee dictionary where you keep track of all the restaurant employees\n",
    "\n",
    "`make reservation` \n",
    "> This function should receive a date and a name. It should assign a random table to this reservation and update the variable reservations with this information. "
   ]
  },
  {
   "cell_type": "code",
   "execution_count": null,
   "metadata": {},
   "outputs": [],
   "source": [
    "class Restaurant:\n",
    "    def __init__(self, number_of_tables):\n",
    "        self.tables = number_of_tables\n",
    "        self.reservations = {}"
   ]
  },
  {
   "cell_type": "code",
   "execution_count": null,
   "metadata": {},
   "outputs": [],
   "source": [
    "local = Restaurant(10)\n",
    "capriciosa = Restaurant(20)"
   ]
  }
 ],
 "metadata": {
  "celltoolbar": "Slideshow",
  "kernelspec": {
   "display_name": "Python 3 (ipykernel)",
   "language": "python",
   "name": "python3"
  },
  "language_info": {
   "codemirror_mode": {
    "name": "ipython",
    "version": 3
   },
   "file_extension": ".py",
   "mimetype": "text/x-python",
   "name": "python",
   "nbconvert_exporter": "python",
   "pygments_lexer": "ipython3",
   "version": "3.11.2"
  }
 },
 "nbformat": 4,
 "nbformat_minor": 4
}
