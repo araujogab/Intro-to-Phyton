{
 "cells": [
  {
   "cell_type": "markdown",
   "id": "6562060e",
   "metadata": {},
   "source": [
    "# NumPy"
   ]
  },
  {
   "cell_type": "markdown",
   "id": "dfce3f77",
   "metadata": {},
   "source": [
    "Is a powerful library for numerical computations. It provides support for large, multi-dimensional arrays and matrices, along with a collection of high-level mathematical functions to operate on these arrays efficiently.\n",
    "\n",
    "* Provide a alternative to the regular python list, the NumPy array\n",
    "\n",
    "However, NumPy array is a new kind of Python type and have it own methods, for example:"
   ]
  },
  {
   "cell_type": "code",
   "execution_count": 1,
   "id": "60ec2c4e",
   "metadata": {},
   "outputs": [
    {
     "data": {
      "text/plain": [
       "[1, 2, 3, 1, 2, 3]"
      ]
     },
     "execution_count": 1,
     "metadata": {},
     "output_type": "execute_result"
    }
   ],
   "source": [
    "phyton_list = [1,2,3]\n",
    "phyton_list+phyton_list"
   ]
  },
  {
   "cell_type": "code",
   "execution_count": 7,
   "id": "e4e44f70",
   "metadata": {},
   "outputs": [
    {
     "data": {
      "text/plain": [
       "array([2, 4, 6])"
      ]
     },
     "execution_count": 7,
     "metadata": {},
     "output_type": "execute_result"
    }
   ],
   "source": [
    "from numpy import array\n",
    "numpy_array = array([1,2,3])\n",
    "numpy_array+numpy_array"
   ]
  },
  {
   "cell_type": "markdown",
   "id": "e402b932",
   "metadata": {},
   "source": [
    "**Note:** NumPy arrays: contain only one type"
   ]
  },
  {
   "cell_type": "code",
   "execution_count": 8,
   "id": "b492cfed",
   "metadata": {},
   "outputs": [
    {
     "data": {
      "text/plain": [
       "array(['1', 'True', 'Smith'], dtype='<U11')"
      ]
     },
     "execution_count": 8,
     "metadata": {},
     "output_type": "execute_result"
    }
   ],
   "source": [
    "array([1,True,\"Smith\"])"
   ]
  },
  {
   "cell_type": "markdown",
   "id": "e08219d6",
   "metadata": {},
   "source": [
    "All different types of elements have been transformed into strings in the array."
   ]
  },
  {
   "cell_type": "markdown",
   "id": "bf391333",
   "metadata": {},
   "source": [
    "### NumPy Subsetting\n",
    "\n",
    "* It is similar to lists\n",
    "* It has some peculiarities"
   ]
  },
  {
   "cell_type": "code",
   "execution_count": 11,
   "id": "3a8ba7c6",
   "metadata": {},
   "outputs": [],
   "source": [
    "number = array([1,2,3,4,5])\n"
   ]
  },
  {
   "cell_type": "code",
   "execution_count": 14,
   "id": "33571c1b",
   "metadata": {},
   "outputs": [
    {
     "data": {
      "text/plain": [
       "array([False, False,  True,  True,  True])"
      ]
     },
     "execution_count": 14,
     "metadata": {},
     "output_type": "execute_result"
    }
   ],
   "source": [
    "number > 2"
   ]
  },
  {
   "cell_type": "code",
   "execution_count": 15,
   "id": "44bcde6e",
   "metadata": {},
   "outputs": [
    {
     "data": {
      "text/plain": [
       "array([3, 4, 5])"
      ]
     },
     "execution_count": 15,
     "metadata": {},
     "output_type": "execute_result"
    }
   ],
   "source": [
    "number[number>2]"
   ]
  },
  {
   "cell_type": "markdown",
   "id": "06e77a1b",
   "metadata": {},
   "source": [
    "### 2D NumPy Arrays"
   ]
  },
  {
   "cell_type": "markdown",
   "id": "c637f68c",
   "metadata": {},
   "source": [
    "Provides support for multi-dimensional arrays and matrices."
   ]
  },
  {
   "cell_type": "code",
   "execution_count": 17,
   "id": "edca428b",
   "metadata": {},
   "outputs": [
    {
     "name": "stdout",
     "output_type": "stream",
     "text": [
      "[[1 2 3]\n",
      " [4 5 6]]\n"
     ]
    }
   ],
   "source": [
    "np_2p = array([[1,2,3],\n",
    "              [4,5,6]])\n",
    "print(np_2p)"
   ]
  },
  {
   "cell_type": "code",
   "execution_count": 18,
   "id": "07e8d4fa",
   "metadata": {},
   "outputs": [
    {
     "data": {
      "text/plain": [
       "(2, 3)"
      ]
     },
     "execution_count": 18,
     "metadata": {},
     "output_type": "execute_result"
    }
   ],
   "source": [
    "np_2p.shape"
   ]
  },
  {
   "cell_type": "markdown",
   "id": "53eba39b",
   "metadata": {},
   "source": [
    "(**n** rows, **m** columns)"
   ]
  },
  {
   "cell_type": "markdown",
   "id": "3b5e06d5",
   "metadata": {},
   "source": [
    "### Subsetting"
   ]
  },
  {
   "cell_type": "code",
   "execution_count": 22,
   "id": "d23150aa",
   "metadata": {},
   "outputs": [],
   "source": [
    "np_2p = array([[1,2,3,4,5],\n",
    "               [6,7,8,9,10]])"
   ]
  },
  {
   "cell_type": "code",
   "execution_count": 27,
   "id": "c82a1983",
   "metadata": {},
   "outputs": [
    {
     "data": {
      "text/plain": [
       "3"
      ]
     },
     "execution_count": 27,
     "metadata": {},
     "output_type": "execute_result"
    }
   ],
   "source": [
    "np_2p[0][2]"
   ]
  },
  {
   "cell_type": "code",
   "execution_count": 28,
   "id": "b7c7f43c",
   "metadata": {},
   "outputs": [
    {
     "data": {
      "text/plain": [
       "3"
      ]
     },
     "execution_count": 28,
     "metadata": {},
     "output_type": "execute_result"
    }
   ],
   "source": [
    "np_2p[0,2]"
   ]
  },
  {
   "cell_type": "code",
   "execution_count": 29,
   "id": "b093752a",
   "metadata": {},
   "outputs": [
    {
     "data": {
      "text/plain": [
       "array([[2, 3, 4],\n",
       "       [7, 8, 9]])"
      ]
     },
     "execution_count": 29,
     "metadata": {},
     "output_type": "execute_result"
    }
   ],
   "source": [
    "np_2p[:,1:4]"
   ]
  },
  {
   "cell_type": "markdown",
   "id": "7456a089",
   "metadata": {},
   "source": [
    "### Basic Statistics"
   ]
  },
  {
   "cell_type": "code",
   "execution_count": 35,
   "id": "1ba13ee8",
   "metadata": {},
   "outputs": [
    {
     "data": {
      "text/plain": [
       "3.0"
      ]
     },
     "execution_count": 35,
     "metadata": {},
     "output_type": "execute_result"
    }
   ],
   "source": [
    "import numpy as np\n",
    "np_2p = array([[1,2,3,4,5],\n",
    "               [6,7,8,9,10]])\n",
    "\n",
    "np.mean(np_2p[0,:])"
   ]
  },
  {
   "cell_type": "code",
   "execution_count": 36,
   "id": "25fa7129",
   "metadata": {},
   "outputs": [
    {
     "data": {
      "text/plain": [
       "5.5"
      ]
     },
     "execution_count": 36,
     "metadata": {},
     "output_type": "execute_result"
    }
   ],
   "source": [
    "np.median(np_2p)"
   ]
  },
  {
   "cell_type": "code",
   "execution_count": 37,
   "id": "4b25dbf1",
   "metadata": {},
   "outputs": [
    {
     "data": {
      "text/plain": [
       "2.8722813232690143"
      ]
     },
     "execution_count": 37,
     "metadata": {},
     "output_type": "execute_result"
    }
   ],
   "source": [
    "np.std(np_2p)"
   ]
  },
  {
   "cell_type": "code",
   "execution_count": 39,
   "id": "f9507409",
   "metadata": {},
   "outputs": [
    {
     "data": {
      "text/plain": [
       "array([[1., 1.],\n",
       "       [1., 1.]])"
      ]
     },
     "execution_count": 39,
     "metadata": {},
     "output_type": "execute_result"
    }
   ],
   "source": [
    "np.corrcoef(np_2p[0,:],np_2p[1,:])"
   ]
  },
  {
   "cell_type": "markdown",
   "id": "f549ff05",
   "metadata": {},
   "source": [
    "### Generate data"
   ]
  },
  {
   "cell_type": "markdown",
   "id": "679806af",
   "metadata": {},
   "source": [
    "np.random.normal(distribuition mean, distribuition standard deviation, number of samples"
   ]
  },
  {
   "cell_type": "code",
   "execution_count": 42,
   "id": "5a8debeb",
   "metadata": {},
   "outputs": [
    {
     "data": {
      "text/plain": [
       "array([1.8023097 , 1.59978299, 1.81392864, 1.79233168, 1.78473112,\n",
       "       1.98919687, 1.99694098, 1.27800587, 1.85799097, 1.45973313])"
      ]
     },
     "execution_count": 42,
     "metadata": {},
     "output_type": "execute_result"
    }
   ],
   "source": [
    "np.random.normal(1.75,0.20,10)"
   ]
  }
 ],
 "metadata": {
  "kernelspec": {
   "display_name": "Python 3 (ipykernel)",
   "language": "python",
   "name": "python3"
  },
  "language_info": {
   "codemirror_mode": {
    "name": "ipython",
    "version": 3
   },
   "file_extension": ".py",
   "mimetype": "text/x-python",
   "name": "python",
   "nbconvert_exporter": "python",
   "pygments_lexer": "ipython3",
   "version": "3.9.13"
  }
 },
 "nbformat": 4,
 "nbformat_minor": 5
}
